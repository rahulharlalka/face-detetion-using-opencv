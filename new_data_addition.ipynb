{
 "cells": [
  {
   "cell_type": "code",
   "execution_count": 16,
   "metadata": {
    "collapsed": true
   },
   "outputs": [],
   "source": [
    "import numpy as np\n",
    "import pandas as pd\n",
    "import os\n",
    "import cv2\n",
    "from PIL import Image\n",
    "import pickle\n",
    "import shutil\n"
   ]
  },
  {
   "cell_type": "code",
   "execution_count": 17,
   "metadata": {
    "collapsed": true
   },
   "outputs": [],
   "source": [
    "BASE_DIR=os.path.dirname(os.path.abspath('new_data_addition.ipynb'))\n",
    "image=os.path.join(BASE_DIR,\"mytraindata\")"
   ]
  },
  {
   "cell_type": "code",
   "execution_count": 18,
   "metadata": {
    "collapsed": false
   },
   "outputs": [
    {
     "name": "stdout",
     "output_type": "stream",
     "text": [
      "new_test_data\n"
     ]
    }
   ],
   "source": [
    "print(\"enter the name of new user\")\n",
    "new_dirname=input()\n",
    "if not os.path.exists(new_dirname):\n",
    "    os.makedirs(new_dirname)"
   ]
  },
  {
   "cell_type": "code",
   "execution_count": 19,
   "metadata": {
    "collapsed": true
   },
   "outputs": [],
   "source": [
    "labels={}\n",
    "with open(\"labelssave.pickle\",'rb') as f:\n",
    "    labels=pickle.load(f)"
   ]
  },
  {
   "cell_type": "code",
   "execution_count": 20,
   "metadata": {
    "collapsed": false
   },
   "outputs": [],
   "source": [
    "new_labels={key:value for value,key in labels.items()}\n",
    "new_labels\n",
    "max_label=max([(key) for key,value in new_labels.items()])\n",
    "max_label=max_label+1\n",
    "labels[new_dirname]=max_label\n"
   ]
  },
  {
   "cell_type": "code",
   "execution_count": 21,
   "metadata": {
    "collapsed": false
   },
   "outputs": [
    {
     "data": {
      "text/plain": [
       "'C:\\\\Users\\\\rahul\\\\OneDrive\\\\Documents\\\\new mega project files\\\\new_test_data'"
      ]
     },
     "execution_count": 21,
     "metadata": {},
     "output_type": "execute_result"
    }
   ],
   "source": [
    "os.chdir(os.path.join(BASE_DIR,new_dirname))\n",
    "os.getcwd()"
   ]
  },
  {
   "cell_type": "code",
   "execution_count": 22,
   "metadata": {
    "collapsed": false
   },
   "outputs": [],
   "source": [
    "cap=cv2.VideoCapture(0)\n",
    "cap.set(3,1280)\n",
    "cap.set(4,720)\n",
    "i=0;\n",
    "while(True):\n",
    "    ret,frame=cap.read()\n",
    "    name_of_pic=\"pic-\"+str(i)+\".jpg\"\n",
    "    i=i+1\n",
    "    cv2.imwrite(name_of_pic,frame)\n",
    "    cv2.imshow(\"frame\",frame)\n",
    "    if cv2.waitKey(20) & 0xFF==ord('q'):\n",
    "        break\n",
    "cap.release()\n",
    "cv2.destroyAllWindows()\n",
    "    "
   ]
  },
  {
   "cell_type": "code",
   "execution_count": 23,
   "metadata": {
    "collapsed": false
   },
   "outputs": [],
   "source": [
    "os.chdir(BASE_DIR)\n"
   ]
  },
  {
   "cell_type": "code",
   "execution_count": 24,
   "metadata": {
    "collapsed": false
   },
   "outputs": [
    {
     "data": {
      "text/plain": [
       "'C:\\\\Users\\\\rahul\\\\OneDrive\\\\Documents\\\\new mega project files\\\\mytraindata\\\\new_test_data'"
      ]
     },
     "execution_count": 24,
     "metadata": {},
     "output_type": "execute_result"
    }
   ],
   "source": [
    "scr=os.path.join(BASE_DIR,new_dirname)\n",
    "destination=os.path.join(image,new_dirname)\n",
    "shutil.move(scr,destination)"
   ]
  },
  {
   "cell_type": "code",
   "execution_count": 25,
   "metadata": {
    "collapsed": true
   },
   "outputs": [],
   "source": [
    "face_cascade=cv2.CascadeClassifier('C:/Users/rahul/OneDrive/Documents/new mega project files/cascades/data/haarcascade_frontalface_alt2.xml')"
   ]
  },
  {
   "cell_type": "code",
   "execution_count": 26,
   "metadata": {
    "collapsed": true
   },
   "outputs": [],
   "source": [
    "recognizer=cv2.face.LBPHFaceRecognizer_create()\n",
    "recognizer.read(\"trainner.yml\")"
   ]
  },
  {
   "cell_type": "code",
   "execution_count": 31,
   "metadata": {
    "collapsed": true
   },
   "outputs": [],
   "source": [
    "x_labels=[]\n",
    "y_labels=[]\n"
   ]
  },
  {
   "cell_type": "code",
   "execution_count": 32,
   "metadata": {
    "collapsed": false
   },
   "outputs": [],
   "source": [
    "for root,dirs,files in os.walk(destination):\n",
    "    for file in files:\n",
    "        if file.endswith(\"jpg\"):\n",
    "            path=os.path.join(root,file)\n",
    "            label=os.path.basename(root).replace(\" \",\"_\").lower()\n",
    "            pil_image=Image.open(path).convert(\"L\")\n",
    "            size=(550,550)\n",
    "            final_image=pil_image.resize(size,Image.ANTIALIAS)\n",
    "            image_array=np.array(final_image,\"uint8\")\n",
    "            faces=face_cascade.detectMultiScale(image_array)\n",
    "            for (x,y,w,h) in faces:\n",
    "                roi=image_array[y:y+h,x:x+w]\n",
    "                x_labels.append(image_array)\n",
    "                y_labels.append(max_label)\n",
    "            \n",
    "            \n",
    "            \n",
    "    "
   ]
  },
  {
   "cell_type": "code",
   "execution_count": 33,
   "metadata": {
    "collapsed": false
   },
   "outputs": [],
   "source": [
    "with open(\"labelssave.pickle\",'ab') as f:\n",
    "    pickle.dump(labels,f)\n",
    "recognizer.train(x_labels,np.array(y_labels))\n",
    "recognizer.save('new_trainer.yml')\n"
   ]
  },
  {
   "cell_type": "code",
   "execution_count": null,
   "metadata": {
    "collapsed": true
   },
   "outputs": [],
   "source": []
  }
 ],
 "metadata": {
  "kernelspec": {
   "display_name": "Python [Root]",
   "language": "python",
   "name": "Python [Root]"
  },
  "language_info": {
   "codemirror_mode": {
    "name": "ipython",
    "version": 3
   },
   "file_extension": ".py",
   "mimetype": "text/x-python",
   "name": "python",
   "nbconvert_exporter": "python",
   "pygments_lexer": "ipython3",
   "version": "3.5.4"
  }
 },
 "nbformat": 4,
 "nbformat_minor": 0
}
