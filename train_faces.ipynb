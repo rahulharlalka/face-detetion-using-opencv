{
 "cells": [
  {
   "cell_type": "code",
   "execution_count": 1,
   "metadata": {
    "collapsed": false
   },
   "outputs": [],
   "source": [
    "import os\n",
    "import cv2\n",
    "from PIL import Image\n",
    "import numpy as np\n",
    "import pickle\n"
   ]
  },
  {
   "cell_type": "code",
   "execution_count": 2,
   "metadata": {
    "collapsed": false
   },
   "outputs": [],
   "source": [
    "BASE_DIR=os.path.dirname(os.path.abspath(\"train_faces.ipynb\"))\n",
    "image_dir=os.path.join(BASE_DIR,\"mytraindata\")\n"
   ]
  },
  {
   "cell_type": "code",
   "execution_count": 3,
   "metadata": {
    "collapsed": true
   },
   "outputs": [],
   "source": [
    "face_cascade=cv2.CascadeClassifier('C:/Users/rahul/OneDrive/Documents/new mega project files/cascades/data/haarcascade_frontalface_alt2.xml')"
   ]
  },
  {
   "cell_type": "code",
   "execution_count": 4,
   "metadata": {
    "collapsed": true
   },
   "outputs": [],
   "source": [
    "recognizer=cv2.face.LBPHFaceRecognizer_create()"
   ]
  },
  {
   "cell_type": "code",
   "execution_count": 8,
   "metadata": {
    "collapsed": true
   },
   "outputs": [],
   "source": [
    "y_labels=[]\n",
    "x_train=[]\n",
    "labels={}\n",
    "current_id=0"
   ]
  },
  {
   "cell_type": "code",
   "execution_count": 6,
   "metadata": {
    "collapsed": true
   },
   "outputs": [],
   "source": [
    "for root,dirs,files in os.walk(image_dir):\n",
    "    for file in files:\n",
    "        if file.endswith(\"png\") or file.endswith(\"jpg\") or file.endswith(\"jpeg\"):\n",
    "            path=os.path.join(root,file)\n",
    "            label=os.path.basename(os.path.dirname(path)).replace(\" \",\"_\").lower()\n",
    "            if label in labels:\n",
    "                pass\n",
    "            else:\n",
    "                labels[label]=current_id\n",
    "                current_id+=1\n",
    "            id_=labels[label]\n",
    "                \n",
    "            pil_image=Image.open(path).convert(\"L\")\n",
    "            size=(550,550)\n",
    "            final_img=pil_image.resize(size,Image.ANTIALIAS)\n",
    "            image_array=np.array(pil_image,\"uint8\")\n",
    "            \n",
    "            faces=face_cascade.detectMultiScale(image_array)\n",
    "            for (x,y,w,h) in faces:\n",
    "                roi=image_array[y:y+h,x:x+w]\n",
    "                x_train.append(image_array)\n",
    "                y_labels.append(id_)\n",
    "\n",
    "#print(y_labels)\n",
    "#print(x_train)\n",
    "            "
   ]
  },
  {
   "cell_type": "code",
   "execution_count": 7,
   "metadata": {
    "collapsed": false
   },
   "outputs": [],
   "source": [
    "#saving the train model\n",
    "with open(\"labelssave.pickle\",\"ab\") as f:\n",
    "    pickle.dump(labels,f)\n",
    "recognizer.train(x_train,np.array(y_labels))\n",
    "recognizer.save(\"trainner.yml\")"
   ]
  },
  {
   "cell_type": "code",
   "execution_count": null,
   "metadata": {
    "collapsed": true
   },
   "outputs": [],
   "source": []
  }
 ],
 "metadata": {
  "kernelspec": {
   "display_name": "Python [Root]",
   "language": "python",
   "name": "Python [Root]"
  },
  "language_info": {
   "codemirror_mode": {
    "name": "ipython",
    "version": 3
   },
   "file_extension": ".py",
   "mimetype": "text/x-python",
   "name": "python",
   "nbconvert_exporter": "python",
   "pygments_lexer": "ipython3",
   "version": "3.5.4"
  }
 },
 "nbformat": 4,
 "nbformat_minor": 0
}
